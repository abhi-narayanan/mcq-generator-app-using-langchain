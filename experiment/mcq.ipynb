{
 "cells": [
  {
   "cell_type": "code",
   "execution_count": 1,
   "metadata": {},
   "outputs": [],
   "source": [
    "import os\n",
    "import json\n",
    "import pandas as pd"
   ]
  },
  {
   "cell_type": "code",
   "execution_count": 2,
   "metadata": {},
   "outputs": [],
   "source": [
    "from langchain.chat_models import ChatOpenAI"
   ]
  },
  {
   "cell_type": "code",
   "execution_count": 3,
   "metadata": {},
   "outputs": [
    {
     "data": {
      "text/plain": [
       "True"
      ]
     },
     "execution_count": 3,
     "metadata": {},
     "output_type": "execute_result"
    }
   ],
   "source": [
    "from dotenv import load_dotenv\n",
    "load_dotenv()"
   ]
  },
  {
   "cell_type": "code",
   "execution_count": 4,
   "metadata": {},
   "outputs": [],
   "source": [
    "key=os.getenv(\"OPENAI_API_KEY\")"
   ]
  },
  {
   "cell_type": "code",
   "execution_count": 5,
   "metadata": {},
   "outputs": [
    {
     "name": "stderr",
     "output_type": "stream",
     "text": [
      "y:\\ml_projects\\mcqgen\\env\\lib\\site-packages\\langchain_core\\_api\\deprecation.py:117: LangChainDeprecationWarning: The class `langchain_community.chat_models.openai.ChatOpenAI` was deprecated in langchain-community 0.0.10 and will be removed in 0.2.0. An updated version of the class exists in the langchain-openai package and should be used instead. To use it run `pip install -U langchain-openai` and import as `from langchain_openai import ChatOpenAI`.\n",
      "  warn_deprecated(\n"
     ]
    }
   ],
   "source": [
    "llm = ChatOpenAI(openai_api_key=key , model_name='gpt-3.5-turbo', temperature=0.5)"
   ]
  },
  {
   "cell_type": "code",
   "execution_count": 6,
   "metadata": {},
   "outputs": [],
   "source": [
    "from langchain.llms import OpenAI\n",
    "from langchain.prompts import PromptTemplate\n",
    "from langchain.chains import LLMChain, SequentialChain\n",
    "from langchain.callbacks import get_openai_callback\n",
    "import PyPDF2"
   ]
  },
  {
   "cell_type": "code",
   "execution_count": 7,
   "metadata": {},
   "outputs": [],
   "source": [
    "RESPONSE_JSON = {\n",
    "    \"1\": {\n",
    "        \"mcq\": \"multiple choice question\",\n",
    "        \"option\": {\n",
    "            \"a\": \"choice here\",\n",
    "            \"b\": \"choice here\",\n",
    "            \"c\": \"choice here\",\n",
    "            \"d\": \"choice here\",\n",
    "        },\n",
    "        \"correct\": \"correct answer\"\n",
    "    },\n",
    "    \"2\": {\n",
    "        \"mcq\": \"multiple choice question\",\n",
    "        \"option\": {\n",
    "            \"a\": \"choice here\",\n",
    "            \"b\": \"choice here\",\n",
    "            \"c\": \"choice here\",\n",
    "            \"d\": \"choice here\",\n",
    "        },\n",
    "        \"correct\": \"correct answer\"\n",
    "    },\n",
    "    \"3\": {\n",
    "        \"mcq\": \"multiple choice question\",\n",
    "        \"option\": {\n",
    "            \"a\": \"choice here\",\n",
    "            \"b\": \"choice here\",\n",
    "            \"c\": \"choice here\",\n",
    "            \"d\": \"choice here\",\n",
    "        },\n",
    "        \"correct\": \"correct answer\"\n",
    "    },\n",
    "}"
   ]
  },
  {
   "cell_type": "code",
   "execution_count": 8,
   "metadata": {},
   "outputs": [],
   "source": [
    "TEMPLATE = \"\"\"\n",
    "Text:{text}\n",
    "You are an expert MCQ maker. Given the above text it is your job to create a quiz of {number} multiple choice questions for {subject} \\\n",
    "students in {tone} tone. Make sure the questions are not repeated and check all questions are conforming to the text as well.\n",
    "Make sure to format your response like RESPONSE_JSON below and use it as a guide. \\\n",
    "Ensure to make {number} MCQs\n",
    "### RESPONSE_JSON\n",
    "{response_json}\n",
    "\"\"\""
   ]
  },
  {
   "cell_type": "code",
   "execution_count": 9,
   "metadata": {},
   "outputs": [],
   "source": [
    "quiz_generation_prompt = PromptTemplate(\n",
    "    input_variables=['text', 'number', 'subject', 'tone', 'response_json'],\n",
    "    template=TEMPLATE\n",
    ")"
   ]
  },
  {
   "cell_type": "code",
   "execution_count": 10,
   "metadata": {},
   "outputs": [],
   "source": [
    "quiz_chain = LLMChain(llm=llm, prompt=quiz_generation_prompt, output_key='quiz', verbose=True)"
   ]
  },
  {
   "cell_type": "code",
   "execution_count": 11,
   "metadata": {},
   "outputs": [],
   "source": [
    "TEMPLATE2 = \"\"\"\n",
    "You are an expert English grammarian and writer. Given a Multiple Choice Quiz for {subject} students, you need to evaluate the complexity of\n",
    "the question and give a complete analysis of the quiz. Only use at max 50 words for complexity. If the quiz is not at par with the cognitive and \n",
    "analytical abilities of the students, update the quiz questions that need to be changed and change the tone such that it perfectly fits \n",
    "the student's ability\n",
    "Quiz MCQs:\n",
    "{quiz}\n",
    "Check from an expert English writer of the above quiz:\n",
    "\"\"\""
   ]
  },
  {
   "cell_type": "code",
   "execution_count": 12,
   "metadata": {},
   "outputs": [],
   "source": [
    "quiz_evaluation_prompt = PromptTemplate(input_variables=['subject', 'quiz'], template=TEMPLATE2)"
   ]
  },
  {
   "cell_type": "code",
   "execution_count": 13,
   "metadata": {},
   "outputs": [],
   "source": [
    "review_chain = LLMChain(llm=llm, prompt=quiz_evaluation_prompt, output_key='review', verbose=True)"
   ]
  },
  {
   "cell_type": "code",
   "execution_count": 14,
   "metadata": {},
   "outputs": [],
   "source": [
    "generate_evaluate_chain = SequentialChain(chains=[quiz_chain, review_chain], input_variables=['text', 'number', 'subject', 'tone', 'response_json'],\n",
    "                                        output_variables = [\"quiz\", \"review\"], verbose=True)"
   ]
  },
  {
   "cell_type": "code",
   "execution_count": 15,
   "metadata": {},
   "outputs": [],
   "source": [
    "file_path = \"Y:\\ml_projects\\mcqgen\\data.txt\"\n",
    "with open(file_path, 'r') as file:\n",
    "    TEXT = file.read()"
   ]
  },
  {
   "cell_type": "code",
   "execution_count": 16,
   "metadata": {},
   "outputs": [
    {
     "data": {
      "text/plain": [
       "\"A robot is a machine—especially one programmable by a computer—capable of carrying out a complex series of actions\\nautomatically.A robot can be guided by an external control\\ndevice, or the control may be embedded within. Robots may be\\nconstructed to evoke human form, but most robots are taskperforming machines, designed with an emphasis on stark\\nfunctionality, rather than expressive aesthetics.\\nRobots can be autonomous or semi-autonomous and range\\nfrom humanoids such as Honda's Advanced Step in Innovative\\nMobility (ASIMO) and TOSY's TOSY Ping Pong Playing Robot\\n(TOPIO) to industrial robots, medical operating robots, patient\\nassist robots, dog therapy robots, collectively programmed\\nswarm robots, UAV drones such as General Atomics MQ-1\\nPredator, and even microscopic nano robots. By mimicking a\\nlifelike appearance or automating movements, a robot may\\nconvey a sense of intelligence or thought of its own.\\nAutonomous things are expected to proliferate in the future,\\nwith home robotics and the autonomous car as some of the\\nmain drivers.\\nThe branch of technology that deals with the design,\\nconstruction, operation, and application of robots, as well as\\ncomputer systems for their control, sensory feedback, and\\ninformation processing is robotics. These technologies deal\\nwith automated machines that can take the place of humans in\\ndangerous environments or manufacturing processes, or\\nresemble humans in appearance, behavior, or cognition. Many\\nof today's robots are inspired by nature contributing to the field\\nof bio-inspired robotics. These robots have also created a newer branch of robotics: soft robotics.\\nFrom the time of ancient civilization, there have been many accounts of user-configurable\\nautomated devices and even automata resembling humans and other animals, such as\\nanimatronics, designed primarily as entertainment. As mechanical techniques developed through\\nthe Industrial age, there appeared more practical applications such as automated machines,\\nremote-control and wireless remote-control.\\nThe term comes from a Slavic root, robot-, with meanings associated with labor. The word 'robot'\\nwas first used to denote a fictional humanoid in a 1920 Czech-language play R.U.R. (Rossumovi\\nUniverzální Roboti – Rossum's Universal Robots) by Karel Čapek, though it was Karel's brother\\nJosef Čapek who was the word's true inventor. Electronics evolved into the driving force of\\ndevelopment with the advent of the first electronic autonomous robots created by William Grey\\nWalter in Bristol, England in 1948, as well as Computer Numerical Control (CNC) machine tools in\\nthe late 1940s by John T. Parsons and Frank L. Stulen.\\nThe first commercial, digital and programmable robot was built\\nby George Devol in 1954 and was named the Unimate. It was\\nsold to General Motors in 1961 where it was used to lift pieces\\nof hot metal from die casting machines at the Inland Fisher\\nGuide Plant in the West Trenton section of Ewing Township,\\nNew Jersey.\\nRobots have replaced humans\\nin performing repetitive and\\ndangerous tasks which humans prefer not to do, or are unable\\nto do because of size limitations, or which take place in extreme\\nenvironments such as outer space or the bottom of the sea.\\nThere are concerns about the increasing use of robots and their\\nrole in society. Robots are blamed for rising technological\\nunemployment as they replace workers in increasing numbers\\nof functions. The use of robots in military combat raises\\nethical concerns. The possibilities of robot autonomy and\\npotential repercussions have been addressed in fiction and may\\nbe a realistic concern in the future\""
      ]
     },
     "execution_count": 16,
     "metadata": {},
     "output_type": "execute_result"
    }
   ],
   "source": [
    "TEXT"
   ]
  },
  {
   "cell_type": "code",
   "execution_count": 17,
   "metadata": {},
   "outputs": [
    {
     "data": {
      "text/plain": [
       "'{\"1\": {\"mcq\": \"multiple choice question\", \"option\": {\"a\": \"choice here\", \"b\": \"choice here\", \"c\": \"choice here\", \"d\": \"choice here\"}, \"correct\": \"correct answer\"}, \"2\": {\"mcq\": \"multiple choice question\", \"option\": {\"a\": \"choice here\", \"b\": \"choice here\", \"c\": \"choice here\", \"d\": \"choice here\"}, \"correct\": \"correct answer\"}, \"3\": {\"mcq\": \"multiple choice question\", \"option\": {\"a\": \"choice here\", \"b\": \"choice here\", \"c\": \"choice here\", \"d\": \"choice here\"}, \"correct\": \"correct answer\"}}'"
      ]
     },
     "execution_count": 17,
     "metadata": {},
     "output_type": "execute_result"
    }
   ],
   "source": [
    "# Serialize the python dictionary into a JSON-formatted string\n",
    "json.dumps(RESPONSE_JSON)"
   ]
  },
  {
   "cell_type": "code",
   "execution_count": 18,
   "metadata": {},
   "outputs": [],
   "source": [
    "NUMBER = 5\n",
    "SUBJECT = 'Robots'\n",
    "TONE = 'simple'"
   ]
  },
  {
   "cell_type": "code",
   "execution_count": 19,
   "metadata": {},
   "outputs": [
    {
     "name": "stderr",
     "output_type": "stream",
     "text": [
      "y:\\ml_projects\\mcqgen\\env\\lib\\site-packages\\langchain_core\\_api\\deprecation.py:117: LangChainDeprecationWarning: The function `__call__` was deprecated in LangChain 0.1.0 and will be removed in 0.2.0. Use invoke instead.\n",
      "  warn_deprecated(\n"
     ]
    },
    {
     "name": "stdout",
     "output_type": "stream",
     "text": [
      "\n",
      "\n",
      "\u001b[1m> Entering new SequentialChain chain...\u001b[0m\n",
      "\n",
      "\n",
      "\u001b[1m> Entering new LLMChain chain...\u001b[0m\n",
      "Prompt after formatting:\n",
      "\u001b[32;1m\u001b[1;3m\n",
      "Text:A robot is a machine—especially one programmable by a computer—capable of carrying out a complex series of actions\n",
      "automatically.A robot can be guided by an external control\n",
      "device, or the control may be embedded within. Robots may be\n",
      "constructed to evoke human form, but most robots are taskperforming machines, designed with an emphasis on stark\n",
      "functionality, rather than expressive aesthetics.\n",
      "Robots can be autonomous or semi-autonomous and range\n",
      "from humanoids such as Honda's Advanced Step in Innovative\n",
      "Mobility (ASIMO) and TOSY's TOSY Ping Pong Playing Robot\n",
      "(TOPIO) to industrial robots, medical operating robots, patient\n",
      "assist robots, dog therapy robots, collectively programmed\n",
      "swarm robots, UAV drones such as General Atomics MQ-1\n",
      "Predator, and even microscopic nano robots. By mimicking a\n",
      "lifelike appearance or automating movements, a robot may\n",
      "convey a sense of intelligence or thought of its own.\n",
      "Autonomous things are expected to proliferate in the future,\n",
      "with home robotics and the autonomous car as some of the\n",
      "main drivers.\n",
      "The branch of technology that deals with the design,\n",
      "construction, operation, and application of robots, as well as\n",
      "computer systems for their control, sensory feedback, and\n",
      "information processing is robotics. These technologies deal\n",
      "with automated machines that can take the place of humans in\n",
      "dangerous environments or manufacturing processes, or\n",
      "resemble humans in appearance, behavior, or cognition. Many\n",
      "of today's robots are inspired by nature contributing to the field\n",
      "of bio-inspired robotics. These robots have also created a newer branch of robotics: soft robotics.\n",
      "From the time of ancient civilization, there have been many accounts of user-configurable\n",
      "automated devices and even automata resembling humans and other animals, such as\n",
      "animatronics, designed primarily as entertainment. As mechanical techniques developed through\n",
      "the Industrial age, there appeared more practical applications such as automated machines,\n",
      "remote-control and wireless remote-control.\n",
      "The term comes from a Slavic root, robot-, with meanings associated with labor. The word 'robot'\n",
      "was first used to denote a fictional humanoid in a 1920 Czech-language play R.U.R. (Rossumovi\n",
      "Univerzální Roboti – Rossum's Universal Robots) by Karel Čapek, though it was Karel's brother\n",
      "Josef Čapek who was the word's true inventor. Electronics evolved into the driving force of\n",
      "development with the advent of the first electronic autonomous robots created by William Grey\n",
      "Walter in Bristol, England in 1948, as well as Computer Numerical Control (CNC) machine tools in\n",
      "the late 1940s by John T. Parsons and Frank L. Stulen.\n",
      "The first commercial, digital and programmable robot was built\n",
      "by George Devol in 1954 and was named the Unimate. It was\n",
      "sold to General Motors in 1961 where it was used to lift pieces\n",
      "of hot metal from die casting machines at the Inland Fisher\n",
      "Guide Plant in the West Trenton section of Ewing Township,\n",
      "New Jersey.\n",
      "Robots have replaced humans\n",
      "in performing repetitive and\n",
      "dangerous tasks which humans prefer not to do, or are unable\n",
      "to do because of size limitations, or which take place in extreme\n",
      "environments such as outer space or the bottom of the sea.\n",
      "There are concerns about the increasing use of robots and their\n",
      "role in society. Robots are blamed for rising technological\n",
      "unemployment as they replace workers in increasing numbers\n",
      "of functions. The use of robots in military combat raises\n",
      "ethical concerns. The possibilities of robot autonomy and\n",
      "potential repercussions have been addressed in fiction and may\n",
      "be a realistic concern in the future\n",
      "You are an expert MCQ maker. Given the above text it is your job to create a quiz of 5 multiple choice questions for Robots students in simple tone. Make sure the questions are not repeated and check all questions are conforming to the text as well.\n",
      "Make sure to format your response like RESPONSE_JSON below and use it as a guide. Ensure to make 5 MCQs\n",
      "### RESPONSE_JSON\n",
      "{\"1\": {\"mcq\": \"multiple choice question\", \"option\": {\"a\": \"choice here\", \"b\": \"choice here\", \"c\": \"choice here\", \"d\": \"choice here\"}, \"correct\": \"correct answer\"}, \"2\": {\"mcq\": \"multiple choice question\", \"option\": {\"a\": \"choice here\", \"b\": \"choice here\", \"c\": \"choice here\", \"d\": \"choice here\"}, \"correct\": \"correct answer\"}, \"3\": {\"mcq\": \"multiple choice question\", \"option\": {\"a\": \"choice here\", \"b\": \"choice here\", \"c\": \"choice here\", \"d\": \"choice here\"}, \"correct\": \"correct answer\"}}\n",
      "\u001b[0m\n",
      "\n",
      "\u001b[1m> Finished chain.\u001b[0m\n",
      "\n",
      "\n",
      "\u001b[1m> Entering new LLMChain chain...\u001b[0m\n",
      "Prompt after formatting:\n",
      "\u001b[32;1m\u001b[1;3m\n",
      "You are an expert English grammarian and writer. Given a Multiple Choice Quiz for Robots students, you need to evaluate the complexity of\n",
      "the question and give a complete analysis of the quiz. Only use at max 50 words for complexity. If the quiz is not at par with the cognitive and \n",
      "analytical abilities of the students, update the quiz questions that need to be changed and change the tone such that it perfectly fits \n",
      "the student's ability\n",
      "Quiz MCQs:\n",
      "\n",
      "{\n",
      "    \"1\": {\n",
      "        \"mcq\": \"What was the first commercial, digital, and programmable robot called?\",\n",
      "        \"option\": {\n",
      "            \"a\": \"ASIMO\",\n",
      "            \"b\": \"TOPIO\",\n",
      "            \"c\": \"Unimate\",\n",
      "            \"d\": \"Predator\"\n",
      "        },\n",
      "        \"correct\": \"c\"\n",
      "    },\n",
      "    \"2\": {\n",
      "        \"mcq\": \"Who invented the term 'robot'?\",\n",
      "        \"option\": {\n",
      "            \"a\": \"Karel Čapek\",\n",
      "            \"b\": \"Josef Čapek\",\n",
      "            \"c\": \"William Grey Walter\",\n",
      "            \"d\": \"George Devol\"\n",
      "        },\n",
      "        \"correct\": \"b\"\n",
      "    },\n",
      "    \"3\": {\n",
      "        \"mcq\": \"What is the branch of technology that deals with the design, construction, and application of robots?\",\n",
      "        \"option\": {\n",
      "            \"a\": \"Biology\",\n",
      "            \"b\": \"Robotics\",\n",
      "            \"c\": \"Astronomy\",\n",
      "            \"d\": \"Geology\"\n",
      "        },\n",
      "        \"correct\": \"b\"\n",
      "    },\n",
      "    \"4\": {\n",
      "        \"mcq\": \"Which robot was used by General Motors in 1961 to lift pieces of hot metal?\",\n",
      "        \"option\": {\n",
      "            \"a\": \"ASIMO\",\n",
      "            \"b\": \"TOPIO\",\n",
      "            \"c\": \"Unimate\",\n",
      "            \"d\": \"Predator\"\n",
      "        },\n",
      "        \"correct\": \"c\"\n",
      "    },\n",
      "    \"5\": {\n",
      "        \"mcq\": \"What was the first electronic autonomous robot created in 1948?\",\n",
      "        \"option\": {\n",
      "            \"a\": \"ASIMO\",\n",
      "            \"b\": \"TOPIO\",\n",
      "            \"c\": \"Unimate\",\n",
      "            \"d\": \"Predator\"\n",
      "        },\n",
      "        \"correct\": \"c\"\n",
      "    }\n",
      "}\n",
      "Check from an expert English writer of the above quiz:\n",
      "\u001b[0m\n",
      "\n",
      "\u001b[1m> Finished chain.\u001b[0m\n",
      "\n",
      "\u001b[1m> Finished chain.\u001b[0m\n"
     ]
    }
   ],
   "source": [
    "# https://python.langchain.com/docs/modules/model_io/llms/token_usage_tracking/\n",
    "# How to setup Token Usage Tracking in Langchain\n",
    "with get_openai_callback() as cb:\n",
    "    response = generate_evaluate_chain(\n",
    "        {\n",
    "            \"text\": TEXT,\n",
    "            \"number\": NUMBER,\n",
    "            \"subject\": SUBJECT,\n",
    "            \"tone\": TONE,\n",
    "            \"response_json\": json.dumps(RESPONSE_JSON)\n",
    "        }\n",
    "    )"
   ]
  },
  {
   "cell_type": "code",
   "execution_count": 20,
   "metadata": {},
   "outputs": [
    {
     "name": "stdout",
     "output_type": "stream",
     "text": [
      "Total Tokens: 1951\n",
      "Prompt Tokens: 1503\n",
      "Completion Tokens: 448\n",
      "Total Cost: 0.0031505\n"
     ]
    }
   ],
   "source": [
    "print(f\"Total Tokens: {cb.total_tokens}\")\n",
    "print(f\"Prompt Tokens: {cb.prompt_tokens}\")\n",
    "print(f\"Completion Tokens: {cb.completion_tokens}\")\n",
    "print(f\"Total Cost: {cb.total_cost}\")"
   ]
  },
  {
   "cell_type": "code",
   "execution_count": 21,
   "metadata": {},
   "outputs": [
    {
     "data": {
      "text/plain": [
       "{'text': \"A robot is a machine—especially one programmable by a computer—capable of carrying out a complex series of actions\\nautomatically.A robot can be guided by an external control\\ndevice, or the control may be embedded within. Robots may be\\nconstructed to evoke human form, but most robots are taskperforming machines, designed with an emphasis on stark\\nfunctionality, rather than expressive aesthetics.\\nRobots can be autonomous or semi-autonomous and range\\nfrom humanoids such as Honda's Advanced Step in Innovative\\nMobility (ASIMO) and TOSY's TOSY Ping Pong Playing Robot\\n(TOPIO) to industrial robots, medical operating robots, patient\\nassist robots, dog therapy robots, collectively programmed\\nswarm robots, UAV drones such as General Atomics MQ-1\\nPredator, and even microscopic nano robots. By mimicking a\\nlifelike appearance or automating movements, a robot may\\nconvey a sense of intelligence or thought of its own.\\nAutonomous things are expected to proliferate in the future,\\nwith home robotics and the autonomous car as some of the\\nmain drivers.\\nThe branch of technology that deals with the design,\\nconstruction, operation, and application of robots, as well as\\ncomputer systems for their control, sensory feedback, and\\ninformation processing is robotics. These technologies deal\\nwith automated machines that can take the place of humans in\\ndangerous environments or manufacturing processes, or\\nresemble humans in appearance, behavior, or cognition. Many\\nof today's robots are inspired by nature contributing to the field\\nof bio-inspired robotics. These robots have also created a newer branch of robotics: soft robotics.\\nFrom the time of ancient civilization, there have been many accounts of user-configurable\\nautomated devices and even automata resembling humans and other animals, such as\\nanimatronics, designed primarily as entertainment. As mechanical techniques developed through\\nthe Industrial age, there appeared more practical applications such as automated machines,\\nremote-control and wireless remote-control.\\nThe term comes from a Slavic root, robot-, with meanings associated with labor. The word 'robot'\\nwas first used to denote a fictional humanoid in a 1920 Czech-language play R.U.R. (Rossumovi\\nUniverzální Roboti – Rossum's Universal Robots) by Karel Čapek, though it was Karel's brother\\nJosef Čapek who was the word's true inventor. Electronics evolved into the driving force of\\ndevelopment with the advent of the first electronic autonomous robots created by William Grey\\nWalter in Bristol, England in 1948, as well as Computer Numerical Control (CNC) machine tools in\\nthe late 1940s by John T. Parsons and Frank L. Stulen.\\nThe first commercial, digital and programmable robot was built\\nby George Devol in 1954 and was named the Unimate. It was\\nsold to General Motors in 1961 where it was used to lift pieces\\nof hot metal from die casting machines at the Inland Fisher\\nGuide Plant in the West Trenton section of Ewing Township,\\nNew Jersey.\\nRobots have replaced humans\\nin performing repetitive and\\ndangerous tasks which humans prefer not to do, or are unable\\nto do because of size limitations, or which take place in extreme\\nenvironments such as outer space or the bottom of the sea.\\nThere are concerns about the increasing use of robots and their\\nrole in society. Robots are blamed for rising technological\\nunemployment as they replace workers in increasing numbers\\nof functions. The use of robots in military combat raises\\nethical concerns. The possibilities of robot autonomy and\\npotential repercussions have been addressed in fiction and may\\nbe a realistic concern in the future\",\n",
       " 'number': 5,\n",
       " 'subject': 'Robots',\n",
       " 'tone': 'simple',\n",
       " 'response_json': '{\"1\": {\"mcq\": \"multiple choice question\", \"option\": {\"a\": \"choice here\", \"b\": \"choice here\", \"c\": \"choice here\", \"d\": \"choice here\"}, \"correct\": \"correct answer\"}, \"2\": {\"mcq\": \"multiple choice question\", \"option\": {\"a\": \"choice here\", \"b\": \"choice here\", \"c\": \"choice here\", \"d\": \"choice here\"}, \"correct\": \"correct answer\"}, \"3\": {\"mcq\": \"multiple choice question\", \"option\": {\"a\": \"choice here\", \"b\": \"choice here\", \"c\": \"choice here\", \"d\": \"choice here\"}, \"correct\": \"correct answer\"}}',\n",
       " 'quiz': '\\n{\\n    \"1\": {\\n        \"mcq\": \"What was the first commercial, digital, and programmable robot called?\",\\n        \"option\": {\\n            \"a\": \"ASIMO\",\\n            \"b\": \"TOPIO\",\\n            \"c\": \"Unimate\",\\n            \"d\": \"Predator\"\\n        },\\n        \"correct\": \"c\"\\n    },\\n    \"2\": {\\n        \"mcq\": \"Who invented the term \\'robot\\'?\",\\n        \"option\": {\\n            \"a\": \"Karel Čapek\",\\n            \"b\": \"Josef Čapek\",\\n            \"c\": \"William Grey Walter\",\\n            \"d\": \"George Devol\"\\n        },\\n        \"correct\": \"b\"\\n    },\\n    \"3\": {\\n        \"mcq\": \"What is the branch of technology that deals with the design, construction, and application of robots?\",\\n        \"option\": {\\n            \"a\": \"Biology\",\\n            \"b\": \"Robotics\",\\n            \"c\": \"Astronomy\",\\n            \"d\": \"Geology\"\\n        },\\n        \"correct\": \"b\"\\n    },\\n    \"4\": {\\n        \"mcq\": \"Which robot was used by General Motors in 1961 to lift pieces of hot metal?\",\\n        \"option\": {\\n            \"a\": \"ASIMO\",\\n            \"b\": \"TOPIO\",\\n            \"c\": \"Unimate\",\\n            \"d\": \"Predator\"\\n        },\\n        \"correct\": \"c\"\\n    },\\n    \"5\": {\\n        \"mcq\": \"What was the first electronic autonomous robot created in 1948?\",\\n        \"option\": {\\n            \"a\": \"ASIMO\",\\n            \"b\": \"TOPIO\",\\n            \"c\": \"Unimate\",\\n            \"d\": \"Predator\"\\n        },\\n        \"correct\": \"c\"\\n    }\\n}',\n",
       " 'review': 'The quiz questions are complex and may require a high level of knowledge about robotics. To better fit the students\\' abilities, simplify the questions and provide more context. For example, \"What is the study of robots called?\" with options like \"A. Robotics B. Biology C. Astronomy D. Geology\" would be more suitable.'}"
      ]
     },
     "execution_count": 21,
     "metadata": {},
     "output_type": "execute_result"
    }
   ],
   "source": [
    "response"
   ]
  },
  {
   "cell_type": "code",
   "execution_count": 22,
   "metadata": {},
   "outputs": [],
   "source": [
    "quiz = response.get(\"quiz\")"
   ]
  },
  {
   "cell_type": "code",
   "execution_count": 26,
   "metadata": {},
   "outputs": [],
   "source": [
    "quiz = json.loads(quiz)"
   ]
  },
  {
   "cell_type": "code",
   "execution_count": 28,
   "metadata": {},
   "outputs": [
    {
     "data": {
      "text/plain": [
       "{'1': {'mcq': 'What was the first commercial, digital, and programmable robot called?',\n",
       "  'option': {'a': 'ASIMO', 'b': 'TOPIO', 'c': 'Unimate', 'd': 'Predator'},\n",
       "  'correct': 'c'},\n",
       " '2': {'mcq': \"Who invented the term 'robot'?\",\n",
       "  'option': {'a': 'Karel Čapek',\n",
       "   'b': 'Josef Čapek',\n",
       "   'c': 'William Grey Walter',\n",
       "   'd': 'George Devol'},\n",
       "  'correct': 'b'},\n",
       " '3': {'mcq': 'What is the branch of technology that deals with the design, construction, and application of robots?',\n",
       "  'option': {'a': 'Biology',\n",
       "   'b': 'Robotics',\n",
       "   'c': 'Astronomy',\n",
       "   'd': 'Geology'},\n",
       "  'correct': 'b'},\n",
       " '4': {'mcq': 'Which robot was used by General Motors in 1961 to lift pieces of hot metal?',\n",
       "  'option': {'a': 'ASIMO', 'b': 'TOPIO', 'c': 'Unimate', 'd': 'Predator'},\n",
       "  'correct': 'c'},\n",
       " '5': {'mcq': 'What was the first electronic autonomous robot created in 1948?',\n",
       "  'option': {'a': 'ASIMO', 'b': 'TOPIO', 'c': 'Unimate', 'd': 'Predator'},\n",
       "  'correct': 'c'}}"
      ]
     },
     "execution_count": 28,
     "metadata": {},
     "output_type": "execute_result"
    }
   ],
   "source": [
    "quiz"
   ]
  },
  {
   "cell_type": "code",
   "execution_count": 29,
   "metadata": {},
   "outputs": [],
   "source": [
    "quiz_table_data = []\n",
    "for key, value in quiz.items():\n",
    "    mcq = value['mcq']\n",
    "    options = \" | \".join(\n",
    "        [\n",
    "            f\"{option}: {option_value}\"\n",
    "            for option, option_value in value['option'].items()\n",
    "        ]\n",
    "    )\n",
    "    correct = value['correct']\n",
    "    quiz_table_data.append({'MCQ': mcq, 'Choices': options, 'Correct': correct})"
   ]
  },
  {
   "cell_type": "code",
   "execution_count": 30,
   "metadata": {},
   "outputs": [
    {
     "data": {
      "text/plain": [
       "[{'MCQ': 'What was the first commercial, digital, and programmable robot called?',\n",
       "  'Choices': 'a: ASIMO | b: TOPIO | c: Unimate | d: Predator',\n",
       "  'Correct': 'c'},\n",
       " {'MCQ': \"Who invented the term 'robot'?\",\n",
       "  'Choices': 'a: Karel Čapek | b: Josef Čapek | c: William Grey Walter | d: George Devol',\n",
       "  'Correct': 'b'},\n",
       " {'MCQ': 'What is the branch of technology that deals with the design, construction, and application of robots?',\n",
       "  'Choices': 'a: Biology | b: Robotics | c: Astronomy | d: Geology',\n",
       "  'Correct': 'b'},\n",
       " {'MCQ': 'Which robot was used by General Motors in 1961 to lift pieces of hot metal?',\n",
       "  'Choices': 'a: ASIMO | b: TOPIO | c: Unimate | d: Predator',\n",
       "  'Correct': 'c'},\n",
       " {'MCQ': 'What was the first electronic autonomous robot created in 1948?',\n",
       "  'Choices': 'a: ASIMO | b: TOPIO | c: Unimate | d: Predator',\n",
       "  'Correct': 'c'}]"
      ]
     },
     "execution_count": 30,
     "metadata": {},
     "output_type": "execute_result"
    }
   ],
   "source": [
    "quiz_table_data"
   ]
  },
  {
   "cell_type": "code",
   "execution_count": 32,
   "metadata": {},
   "outputs": [],
   "source": [
    "quiz_df = pd.DataFrame(quiz_table_data)"
   ]
  },
  {
   "cell_type": "code",
   "execution_count": 33,
   "metadata": {},
   "outputs": [],
   "source": [
    "quiz_df.to_csv(\"robot.csv\", index=False)"
   ]
  },
  {
   "cell_type": "code",
   "execution_count": null,
   "metadata": {},
   "outputs": [],
   "source": []
  }
 ],
 "metadata": {
  "kernelspec": {
   "display_name": "Python 3",
   "language": "python",
   "name": "python3"
  },
  "language_info": {
   "codemirror_mode": {
    "name": "ipython",
    "version": 3
   },
   "file_extension": ".py",
   "mimetype": "text/x-python",
   "name": "python",
   "nbconvert_exporter": "python",
   "pygments_lexer": "ipython3",
   "version": "3.8.19"
  }
 },
 "nbformat": 4,
 "nbformat_minor": 2
}
